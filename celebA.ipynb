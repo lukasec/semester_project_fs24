{
 "cells": [
  {
   "cell_type": "markdown",
   "metadata": {},
   "source": [
    "# Experiment 5.2 Gender classification with unknown confounding"
   ]
  },
  {
   "cell_type": "code",
   "execution_count": 1,
   "metadata": {},
   "outputs": [],
   "source": [
    "import data_handler\n",
    "import configs\n",
    "import train\n",
    "import pandas as pd\n",
    "import matplotlib.pyplot as plt"
   ]
  },
  {
   "cell_type": "code",
   "execution_count": 2,
   "metadata": {},
   "outputs": [],
   "source": [
    "config = configs.celebA_experiment()\n",
    "train_ds, test1_ds, test2_ds, img_dir = data_handler.load_datasets_celebA_counfound(config.prop_glasses, config.train_size, config.test_size)"
   ]
  },
  {
   "cell_type": "markdown",
   "metadata": {},
   "source": [
    "### CelebA handcrafted datasets with confounding"
   ]
  },
  {
   "cell_type": "code",
   "execution_count": 3,
   "metadata": {},
   "outputs": [
    {
     "name": "stdout",
     "output_type": "stream",
     "text": [
      "Train set size:  20000\n",
      "Distinct IDs that occur more than once:  4464\n",
      "Mean occurrences of IDs:  2.7789356676392942\n",
      "Max occurrences of IDs:  27\n",
      "\n",
      "\n",
      "Percentage of images for each combination of gender and eyeglasses status:\n",
      "Eyeglasses     0     1\n",
      "Male                  \n",
      "0           40.0  10.0\n",
      "1           10.0  40.0\n",
      "\n",
      "\n",
      "Number of distinct IDs with at least one instance of eyeglasses being worn and not worn: 1385\n"
     ]
    }
   ],
   "source": [
    "print(\"Train set size: \", len(train_ds))\n",
    "id_counts = train_ds['ID'].value_counts()\n",
    "print(\"Distinct IDs that occur more than once: \", id_counts[id_counts > 1].count())\n",
    "print(\"Mean occurrences of IDs: \", id_counts.mean())\n",
    "print(\"Max occurrences of IDs: \", id_counts.max())\n",
    "\n",
    "cross_tab = pd.crosstab(index=train_ds['Male'], columns=train_ds['Eyeglasses'])\n",
    "\n",
    "cross_tab_percentage = cross_tab.div(cross_tab.sum().sum()) * 100\n",
    "\n",
    "print(\"\\n\\nPercentage of images for each combination of gender and eyeglasses status:\")\n",
    "print(cross_tab_percentage)\n",
    "\n",
    "grouped = train_ds.groupby(['ID', 'Eyeglasses']).size().unstack(fill_value=0)\n",
    "ids_with_and_without_glasses = grouped[(grouped[0] > 0) & (grouped[1] > 0)]\n",
    "distinct_ids_count = len(ids_with_and_without_glasses)\n",
    "print(\"\\n\\nNumber of distinct IDs with at least one instance of eyeglasses being worn and not worn:\", distinct_ids_count)"
   ]
  },
  {
   "cell_type": "code",
   "execution_count": 4,
   "metadata": {},
   "outputs": [
    {
     "name": "stdout",
     "output_type": "stream",
     "text": [
      "Test set 1\n",
      "Test set size:  4000\n",
      "\n",
      "\n",
      "Percentage of images for each combination of gender and eyeglasses status:\n",
      "Eyeglasses     0     1\n",
      "Male                  \n",
      "0           50.0   0.0\n",
      "1            0.0  50.0\n",
      "Test set 2\n",
      "\n",
      "\n",
      "\n",
      "Test set size:  1200\n",
      "\n",
      "\n",
      "Percentage of images for each combination of gender and eyeglasses status:\n",
      "Eyeglasses     0     1\n",
      "Male                  \n",
      "0            0.0  50.0\n",
      "1           50.0   0.0\n"
     ]
    }
   ],
   "source": [
    "print(\"Test set 1\")\n",
    "print(\"Test set size: \", len(test1_ds))\n",
    "\n",
    "cross_tab = pd.crosstab(index=test1_ds['Male'], columns=test1_ds['Eyeglasses'])\n",
    "\n",
    "cross_tab_percentage = cross_tab.div(cross_tab.sum().sum()) * 100\n",
    "\n",
    "print(\"\\n\\nPercentage of images for each combination of gender and eyeglasses status:\")\n",
    "print(cross_tab_percentage)\n",
    "\n",
    "print(\"Test set 2\")\n",
    "print(\"\\n\\n\\nTest set size: \", len(test2_ds))\n",
    "cross_tab = pd.crosstab(index=test2_ds['Male'], columns=test2_ds['Eyeglasses'])\n",
    "\n",
    "cross_tab_percentage = cross_tab.div(cross_tab.sum().sum()) * 100\n",
    "\n",
    "print(\"\\n\\nPercentage of images for each combination of gender and eyeglasses status:\")\n",
    "print(cross_tab_percentage)         "
   ]
  },
  {
   "cell_type": "code",
   "execution_count": 5,
   "metadata": {},
   "outputs": [],
   "source": [
    "train_ds = data_handler.conv_celebA_to_jax(train_ds, img_dir)\n",
    "test1_ds = data_handler.conv_celebA_to_jax(test1_ds, img_dir)\n",
    "test2_ds = data_handler.conv_celebA_to_jax(test2_ds, img_dir)"
   ]
  },
  {
   "cell_type": "code",
   "execution_count": 7,
   "metadata": {},
   "outputs": [
    {
     "data": {
      "text/plain": [
       "<matplotlib.image.AxesImage at 0x2e75e63b0>"
      ]
     },
     "execution_count": 7,
     "metadata": {},
     "output_type": "execute_result"
    },
    {
     "data": {
      "image/png": "[encoded data removed]",
      "text/plain": [
       "<Figure size 640x480 with 1 Axes>"
      ]
     },
     "metadata": {},
     "output_type": "display_data"
    }
   ],
   "source": [
    "x = test2_ds['image'][154]\n",
    "plt.imshow(x)"
   ]
  },
  {
   "cell_type": "markdown",
   "metadata": {},
   "source": [
    "## Pooled estimator"
   ]
  },
  {
   "cell_type": "code",
   "execution_count": 8,
   "metadata": {},
   "outputs": [
    {
     "name": "stderr",
     "output_type": "stream",
     "text": [
      "INFO:absl:epoch: 1, train_loss: 214565.7344, train_accuracy: 49.38, test1_accuracy: 49.18, test2_accuracy: 49.08, core_penalty: 76881567744.0000\n",
      "INFO:absl:epoch: 2, train_loss: 147.9192, train_accuracy: 52.44, test1_accuracy: 51.85, test2_accuracy: 50.33, core_penalty: 591.0595\n",
      "INFO:absl:epoch: 3, train_loss: 104.5261, train_accuracy: 57.35, test1_accuracy: 51.23, test2_accuracy: 50.83, core_penalty: 68.1194\n",
      "INFO:absl:epoch: 4, train_loss: 99.4280, train_accuracy: 57.35, test1_accuracy: 64.65, test2_accuracy: 51.92, core_penalty: 16.3272\n",
      "INFO:absl:epoch: 5, train_loss: 94.0521, train_accuracy: 57.63, test1_accuracy: 61.70, test2_accuracy: 50.92, core_penalty: 3.7650\n",
      "INFO:absl:epoch: 6, train_loss: 91.6341, train_accuracy: 57.34, test1_accuracy: 54.13, test2_accuracy: 50.00, core_penalty: 3.4394\n",
      "INFO:absl:epoch: 7, train_loss: 87.9382, train_accuracy: 59.53, test1_accuracy: 65.95, test2_accuracy: 51.25, core_penalty: 1.7833\n",
      "INFO:absl:epoch: 8, train_loss: 85.7330, train_accuracy: 59.33, test1_accuracy: 53.28, test2_accuracy: 50.33, core_penalty: 1.3360\n",
      "INFO:absl:epoch: 9, train_loss: 84.5773, train_accuracy: 58.46, test1_accuracy: 60.30, test2_accuracy: 50.00, core_penalty: 3.0591\n",
      "INFO:absl:epoch: 10, train_loss: 81.2751, train_accuracy: 61.38, test1_accuracy: 68.88, test2_accuracy: 50.50, core_penalty: 1.1188\n",
      "INFO:absl:epoch: 11, train_loss: 79.1138, train_accuracy: 61.69, test1_accuracy: 63.62, test2_accuracy: 53.75, core_penalty: 0.8667\n",
      "INFO:absl:epoch: 12, train_loss: 76.9803, train_accuracy: 65.60, test1_accuracy: 70.00, test2_accuracy: 52.08, core_penalty: 0.7067\n",
      "INFO:absl:epoch: 13, train_loss: 75.4676, train_accuracy: 63.94, test1_accuracy: 54.33, test2_accuracy: 50.67, core_penalty: 1.3028\n",
      "INFO:absl:epoch: 14, train_loss: 74.3467, train_accuracy: 61.01, test1_accuracy: 60.45, test2_accuracy: 52.67, core_penalty: 2.0307\n",
      "INFO:absl:epoch: 15, train_loss: 71.8408, train_accuracy: 66.43, test1_accuracy: 68.75, test2_accuracy: 52.00, core_penalty: 0.5668\n",
      "INFO:absl:epoch: 16, train_loss: 70.2227, train_accuracy: 67.90, test1_accuracy: 66.28, test2_accuracy: 52.83, core_penalty: 0.4681\n",
      "INFO:absl:epoch: 17, train_loss: 203.7632, train_accuracy: 56.11, test1_accuracy: 50.90, test2_accuracy: 50.17, core_penalty: 8367.6758\n",
      "INFO:absl:epoch: 18, train_loss: 80.0041, train_accuracy: 59.46, test1_accuracy: 63.20, test2_accuracy: 56.75, core_penalty: 56.2470\n",
      "INFO:absl:epoch: 19, train_loss: 74.7689, train_accuracy: 58.50, test1_accuracy: 52.58, test2_accuracy: 51.25, core_penalty: 10.7709\n",
      "INFO:absl:epoch: 20, train_loss: 71.6375, train_accuracy: 59.99, test1_accuracy: 71.80, test2_accuracy: 53.50, core_penalty: 5.3169\n",
      "INFO:absl:epoch: 21, train_loss: 69.1813, train_accuracy: 62.34, test1_accuracy: 68.47, test2_accuracy: 54.67, core_penalty: 3.5646\n",
      "INFO:absl:epoch: 22, train_loss: 66.9241, train_accuracy: 63.39, test1_accuracy: 56.45, test2_accuracy: 50.50, core_penalty: 2.2295\n",
      "INFO:absl:epoch: 23, train_loss: 65.4366, train_accuracy: 63.14, test1_accuracy: 55.13, test2_accuracy: 52.00, core_penalty: 1.8127\n",
      "INFO:absl:epoch: 24, train_loss: 64.7543, train_accuracy: 60.95, test1_accuracy: 72.20, test2_accuracy: 56.08, core_penalty: 3.0412\n",
      "INFO:absl:epoch: 25, train_loss: 62.6116, train_accuracy: 63.35, test1_accuracy: 72.43, test2_accuracy: 55.00, core_penalty: 1.9064\n",
      "INFO:absl:epoch: 26, train_loss: 61.0841, train_accuracy: 66.01, test1_accuracy: 72.75, test2_accuracy: 56.33, core_penalty: 1.4368\n",
      "INFO:absl:epoch: 27, train_loss: 60.0149, train_accuracy: 63.98, test1_accuracy: 71.85, test2_accuracy: 55.25, core_penalty: 1.6656\n",
      "INFO:absl:epoch: 28, train_loss: 58.7780, train_accuracy: 66.00, test1_accuracy: 74.93, test2_accuracy: 55.58, core_penalty: 1.0194\n",
      "INFO:absl:epoch: 29, train_loss: 58.2270, train_accuracy: 62.59, test1_accuracy: 63.88, test2_accuracy: 52.33, core_penalty: 1.4501\n",
      "INFO:absl:epoch: 30, train_loss: 56.9847, train_accuracy: 62.84, test1_accuracy: 67.80, test2_accuracy: 54.75, core_penalty: 1.5484\n",
      "INFO:absl:epoch: 31, train_loss: 55.5606, train_accuracy: 67.93, test1_accuracy: 66.53, test2_accuracy: 53.83, core_penalty: 0.9524\n",
      "INFO:absl:epoch: 32, train_loss: 54.6825, train_accuracy: 66.33, test1_accuracy: 68.03, test2_accuracy: 55.50, core_penalty: 0.7324\n",
      "INFO:absl:epoch: 33, train_loss: 53.8289, train_accuracy: 64.73, test1_accuracy: 66.43, test2_accuracy: 55.67, core_penalty: 0.8765\n",
      "INFO:absl:epoch: 34, train_loss: 52.8355, train_accuracy: 67.67, test1_accuracy: 71.90, test2_accuracy: 57.25, core_penalty: 0.6456\n",
      "INFO:absl:epoch: 35, train_loss: 51.9781, train_accuracy: 67.88, test1_accuracy: 72.53, test2_accuracy: 56.83, core_penalty: 0.5932\n",
      "INFO:absl:epoch: 36, train_loss: 51.2099, train_accuracy: 66.56, test1_accuracy: 70.93, test2_accuracy: 56.67, core_penalty: 0.9086\n",
      "INFO:absl:epoch: 37, train_loss: 50.4780, train_accuracy: 66.49, test1_accuracy: 73.00, test2_accuracy: 56.25, core_penalty: 1.4914\n",
      "INFO:absl:epoch: 38, train_loss: 49.7984, train_accuracy: 63.86, test1_accuracy: 61.28, test2_accuracy: 54.67, core_penalty: 0.6074\n",
      "INFO:absl:epoch: 39, train_loss: 50.0872, train_accuracy: 65.07, test1_accuracy: 64.48, test2_accuracy: 53.00, core_penalty: 2.9010\n",
      "INFO:absl:epoch: 40, train_loss: 50.0947, train_accuracy: 65.96, test1_accuracy: 61.38, test2_accuracy: 53.00, core_penalty: 1.3695\n",
      "INFO:absl:epoch: 41, train_loss: 49.0615, train_accuracy: 67.22, test1_accuracy: 71.48, test2_accuracy: 56.42, core_penalty: 1.8575\n",
      "INFO:absl:epoch: 42, train_loss: 48.5136, train_accuracy: 63.35, test1_accuracy: 54.20, test2_accuracy: 50.17, core_penalty: 0.9812\n",
      "INFO:absl:epoch: 43, train_loss: 47.5151, train_accuracy: 63.98, test1_accuracy: 61.10, test2_accuracy: 54.58, core_penalty: 0.7656\n",
      "INFO:absl:epoch: 44, train_loss: 46.4531, train_accuracy: 68.22, test1_accuracy: 75.18, test2_accuracy: 57.33, core_penalty: 0.5251\n",
      "INFO:absl:epoch: 45, train_loss: 45.6374, train_accuracy: 67.27, test1_accuracy: 74.60, test2_accuracy: 57.75, core_penalty: 0.4685\n",
      "INFO:absl:epoch: 46, train_loss: 44.8713, train_accuracy: 67.30, test1_accuracy: 70.35, test2_accuracy: 53.58, core_penalty: 0.3609\n",
      "INFO:absl:epoch: 47, train_loss: 44.0362, train_accuracy: 70.08, test1_accuracy: 68.60, test2_accuracy: 56.75, core_penalty: 0.3780\n",
      "INFO:absl:epoch: 48, train_loss: 43.3532, train_accuracy: 67.26, test1_accuracy: 70.50, test2_accuracy: 57.08, core_penalty: 0.2839\n",
      "INFO:absl:epoch: 49, train_loss: 42.5578, train_accuracy: 69.31, test1_accuracy: 76.40, test2_accuracy: 55.83, core_penalty: 0.3216\n",
      "INFO:absl:epoch: 50, train_loss: 41.9346, train_accuracy: 67.15, test1_accuracy: 68.47, test2_accuracy: 52.33, core_penalty: 0.3179\n"
     ]
    }
   ],
   "source": [
    "config = configs.celebA_experiment()\n",
    "config.lambda_core = 0.0\n",
    "config.learning_rate = 0.1\n",
    "config.batch_size = 240\n",
    "state_pooled = train.train_and_evaluate(config, workdir=f\"models_celebA_confoung/pooled_classif\", train_ds=train_ds, test1_ds=test1_ds, test2_ds=test2_ds)"
   ]
  },
  {
   "cell_type": "code",
   "execution_count": 11,
   "metadata": {},
   "outputs": [
    {
     "name": "stderr",
     "output_type": "stream",
     "text": [
      "INFO:absl:epoch: 1, train_loss: 4569211.5000, train_accuracy: 49.09, test1_accuracy: 44.15, test2_accuracy: 50.75, core_penalty: 2283777.5000\n",
      "INFO:absl:epoch: 2, train_loss: 449.2817, train_accuracy: 47.45, test1_accuracy: 44.13, test2_accuracy: 52.08, core_penalty: 170.8681\n",
      "INFO:absl:epoch: 3, train_loss: 232.7002, train_accuracy: 48.33, test1_accuracy: 44.30, test2_accuracy: 56.08, core_penalty: 70.2680\n",
      "INFO:absl:epoch: 4, train_loss: 155.2355, train_accuracy: 48.82, test1_accuracy: 46.50, test2_accuracy: 53.08, core_penalty: 33.5806\n",
      "INFO:absl:epoch: 5, train_loss: 129.0604, train_accuracy: 50.03, test1_accuracy: 47.38, test2_accuracy: 52.42, core_penalty: 21.3175\n",
      "INFO:absl:epoch: 6, train_loss: 112.0597, train_accuracy: 51.35, test1_accuracy: 52.20, test2_accuracy: 56.92, core_penalty: 13.6805\n",
      "INFO:absl:epoch: 7, train_loss: 107.3523, train_accuracy: 51.28, test1_accuracy: 47.93, test2_accuracy: 58.58, core_penalty: 11.7689\n",
      "INFO:absl:epoch: 8, train_loss: 104.7546, train_accuracy: 52.56, test1_accuracy: 50.08, test2_accuracy: 62.33, core_penalty: 10.8284\n",
      "INFO:absl:epoch: 9, train_loss: 97.4836, train_accuracy: 54.13, test1_accuracy: 52.90, test2_accuracy: 63.42, core_penalty: 7.8719\n",
      "INFO:absl:epoch: 10, train_loss: 93.2549, train_accuracy: 53.45, test1_accuracy: 51.72, test2_accuracy: 59.50, core_penalty: 6.0663\n",
      "INFO:absl:epoch: 11, train_loss: 88.9828, train_accuracy: 53.12, test1_accuracy: 46.45, test2_accuracy: 60.00, core_penalty: 4.2710\n",
      "INFO:absl:epoch: 12, train_loss: 85.7723, train_accuracy: 53.29, test1_accuracy: 50.53, test2_accuracy: 62.92, core_penalty: 3.0166\n",
      "INFO:absl:epoch: 13, train_loss: 87.3263, train_accuracy: 53.37, test1_accuracy: 47.78, test2_accuracy: 61.50, core_penalty: 4.0498\n",
      "INFO:absl:epoch: 14, train_loss: 83.8006, train_accuracy: 53.69, test1_accuracy: 50.35, test2_accuracy: 63.17, core_penalty: 2.5707\n",
      "INFO:absl:epoch: 15, train_loss: 81.8905, train_accuracy: 53.99, test1_accuracy: 47.38, test2_accuracy: 64.17, core_penalty: 1.8733\n",
      "INFO:absl:epoch: 16, train_loss: 81.3083, train_accuracy: 53.36, test1_accuracy: 48.10, test2_accuracy: 64.33, core_penalty: 1.8058\n",
      "INFO:absl:epoch: 17, train_loss: 81.0523, train_accuracy: 53.24, test1_accuracy: 48.62, test2_accuracy: 62.92, core_penalty: 1.9064\n",
      "INFO:absl:epoch: 18, train_loss: 80.4689, train_accuracy: 53.84, test1_accuracy: 47.40, test2_accuracy: 63.83, core_penalty: 1.8160\n",
      "INFO:absl:epoch: 19, train_loss: 78.9385, train_accuracy: 53.99, test1_accuracy: 52.93, test2_accuracy: 60.83, core_penalty: 1.2520\n",
      "INFO:absl:epoch: 20, train_loss: 78.8286, train_accuracy: 54.48, test1_accuracy: 51.95, test2_accuracy: 63.83, core_penalty: 1.3936\n",
      "INFO:absl:epoch: 21, train_loss: 77.9556, train_accuracy: 53.96, test1_accuracy: 51.15, test2_accuracy: 64.33, core_penalty: 1.1380\n",
      "INFO:absl:epoch: 22, train_loss: 77.9257, train_accuracy: 55.02, test1_accuracy: 50.53, test2_accuracy: 62.75, core_penalty: 1.2800\n",
      "INFO:absl:epoch: 23, train_loss: 77.0274, train_accuracy: 54.46, test1_accuracy: 49.88, test2_accuracy: 64.92, core_penalty: 1.0211\n",
      "INFO:absl:epoch: 24, train_loss: 76.5057, train_accuracy: 54.61, test1_accuracy: 47.08, test2_accuracy: 60.00, core_penalty: 0.9111\n",
      "INFO:absl:epoch: 25, train_loss: 76.0258, train_accuracy: 54.69, test1_accuracy: 47.23, test2_accuracy: 62.67, core_penalty: 0.8354\n",
      "INFO:absl:epoch: 26, train_loss: 75.6371, train_accuracy: 53.59, test1_accuracy: 47.20, test2_accuracy: 59.42, core_penalty: 0.7862\n",
      "INFO:absl:epoch: 27, train_loss: 75.0467, train_accuracy: 55.42, test1_accuracy: 53.00, test2_accuracy: 62.50, core_penalty: 0.6659\n",
      "INFO:absl:epoch: 28, train_loss: 74.7347, train_accuracy: 56.14, test1_accuracy: 49.65, test2_accuracy: 64.08, core_penalty: 0.6689\n",
      "INFO:absl:epoch: 29, train_loss: 74.3153, train_accuracy: 55.40, test1_accuracy: 53.40, test2_accuracy: 62.75, core_penalty: 0.5954\n",
      "INFO:absl:epoch: 30, train_loss: 74.2364, train_accuracy: 55.01, test1_accuracy: 52.33, test2_accuracy: 63.25, core_penalty: 0.7030\n",
      "INFO:absl:epoch: 31, train_loss: 74.0097, train_accuracy: 55.22, test1_accuracy: 48.42, test2_accuracy: 60.17, core_penalty: 0.7374\n",
      "INFO:absl:epoch: 32, train_loss: 73.6058, train_accuracy: 54.39, test1_accuracy: 55.05, test2_accuracy: 61.33, core_penalty: 0.6719\n",
      "INFO:absl:epoch: 33, train_loss: 73.0985, train_accuracy: 56.42, test1_accuracy: 51.15, test2_accuracy: 61.67, core_penalty: 0.5785\n",
      "INFO:absl:epoch: 34, train_loss: 72.7963, train_accuracy: 55.60, test1_accuracy: 53.30, test2_accuracy: 61.33, core_penalty: 0.5647\n",
      "INFO:absl:epoch: 35, train_loss: 72.5351, train_accuracy: 55.94, test1_accuracy: 53.05, test2_accuracy: 63.08, core_penalty: 0.5682\n",
      "INFO:absl:epoch: 36, train_loss: 72.1050, train_accuracy: 56.48, test1_accuracy: 54.53, test2_accuracy: 60.92, core_penalty: 0.5136\n",
      "INFO:absl:epoch: 37, train_loss: 71.6848, train_accuracy: 56.08, test1_accuracy: 55.45, test2_accuracy: 61.83, core_penalty: 0.4399\n",
      "INFO:absl:epoch: 38, train_loss: 71.4169, train_accuracy: 56.05, test1_accuracy: 50.35, test2_accuracy: 58.75, core_penalty: 0.4482\n",
      "INFO:absl:epoch: 39, train_loss: 71.3188, train_accuracy: 55.70, test1_accuracy: 51.28, test2_accuracy: 56.83, core_penalty: 0.5312\n",
      "INFO:absl:epoch: 40, train_loss: 70.8094, train_accuracy: 56.17, test1_accuracy: 50.08, test2_accuracy: 55.33, core_penalty: 0.4244\n",
      "INFO:absl:epoch: 41, train_loss: 70.4050, train_accuracy: 55.14, test1_accuracy: 54.33, test2_accuracy: 60.83, core_penalty: 0.3538\n",
      "INFO:absl:epoch: 42, train_loss: 70.1269, train_accuracy: 56.31, test1_accuracy: 50.55, test2_accuracy: 56.50, core_penalty: 0.3790\n",
      "INFO:absl:epoch: 43, train_loss: 69.8732, train_accuracy: 55.40, test1_accuracy: 55.50, test2_accuracy: 60.83, core_penalty: 0.3838\n",
      "INFO:absl:epoch: 44, train_loss: 69.6186, train_accuracy: 55.10, test1_accuracy: 56.03, test2_accuracy: 59.67, core_penalty: 0.4020\n",
      "INFO:absl:epoch: 45, train_loss: 69.0039, train_accuracy: 56.46, test1_accuracy: 52.20, test2_accuracy: 56.67, core_penalty: 0.2603\n",
      "INFO:absl:epoch: 46, train_loss: 68.8137, train_accuracy: 56.44, test1_accuracy: 56.53, test2_accuracy: 56.83, core_penalty: 0.3171\n",
      "INFO:absl:epoch: 47, train_loss: 68.5636, train_accuracy: 55.97, test1_accuracy: 55.17, test2_accuracy: 58.17, core_penalty: 0.3362\n",
      "INFO:absl:epoch: 48, train_loss: 68.2438, train_accuracy: 56.33, test1_accuracy: 56.60, test2_accuracy: 58.67, core_penalty: 0.3315\n",
      "INFO:absl:epoch: 49, train_loss: 67.9736, train_accuracy: 55.63, test1_accuracy: 56.55, test2_accuracy: 59.92, core_penalty: 0.3430\n",
      "INFO:absl:epoch: 50, train_loss: 67.4711, train_accuracy: 55.89, test1_accuracy: 59.63, test2_accuracy: 58.42, core_penalty: 0.2481\n"
     ]
    }
   ],
   "source": [
    "config = configs.celebA_experiment()\n",
    "config.lambda_core = 2.0\n",
    "config.learning_rate = 0.1\n",
    "config.batch_size = 240\n",
    "state_pooled = train.train_and_evaluate(config, workdir=f\"models_celebA_confoung/core_classif\", train_ds=train_ds, test1_ds=test1_ds, test2_ds=test2_ds)"
   ]
  },
  {
   "cell_type": "code",
   "execution_count": null,
   "metadata": {},
   "outputs": [],
   "source": []
  },
  {
   "cell_type": "code",
   "execution_count": null,
   "metadata": {},
   "outputs": [],
   "source": []
  },
  {
   "cell_type": "code",
   "execution_count": null,
   "metadata": {},
   "outputs": [],
   "source": [
    "# Issues\n",
    "# CoRe penalty 0 => sample high ID occurrences preferentially\n",
    "# Base config: not learning anything, always pred one or the other (epoch 3)\n",
    "# Second config below: "
   ]
  },
  {
   "cell_type": "code",
   "execution_count": 11,
   "metadata": {},
   "outputs": [
    {
     "name": "stderr",
     "output_type": "stream",
     "text": [
      "INFO:absl:epoch: 1, train_loss: 10635547.0000, train_accuracy: 50.41, test1_accuracy: 50.00, test2_accuracy: 50.00, core_penalty: 53127772.0000\n"
     ]
    },
    {
     "name": "stdout",
     "output_type": "stream",
     "text": [
      "[ 3374.5437 -1606.6406] 0\n",
      "[ 3704.3274 -1887.0117] 0\n",
      "[ 5214.493 -2844.94 ] 0\n",
      "[1844.424   -499.81122] 0\n"
     ]
    },
    {
     "name": "stderr",
     "output_type": "stream",
     "text": [
      "INFO:absl:epoch: 2, train_loss: 8719.6270, train_accuracy: 51.19, test1_accuracy: 50.00, test2_accuracy: 50.00, core_penalty: 40977.3389\n"
     ]
    },
    {
     "name": "stdout",
     "output_type": "stream",
     "text": [
      "[  10.105445 -273.24823 ] 0\n",
      "[  25.108833 -242.83614 ] 0\n",
      "[-41.346916 -45.463142] 0\n",
      "[-125.074394 -161.20135 ] 0\n"
     ]
    },
    {
     "name": "stderr",
     "output_type": "stream",
     "text": [
      "INFO:absl:epoch: 3, train_loss: 976.6524, train_accuracy: 52.67, test1_accuracy: 50.00, test2_accuracy: 50.00, core_penalty: 3914.8713\n"
     ]
    },
    {
     "name": "stdout",
     "output_type": "stream",
     "text": [
      "[ 222.9436  -268.85907] 0\n",
      "[ 257.42184 -194.1744 ] 0\n",
      "[120.2278  -67.50232] 0\n",
      "[  83.07461 -153.2539 ] 0\n"
     ]
    },
    {
     "name": "stderr",
     "output_type": "stream",
     "text": [
      "INFO:absl:epoch: 4, train_loss: 911.1309, train_accuracy: 51.91, test1_accuracy: 50.00, test2_accuracy: 25.00, core_penalty: 3579.6589\n"
     ]
    },
    {
     "name": "stdout",
     "output_type": "stream",
     "text": [
      "[ 149.93372 -361.76395] 0\n",
      "[  17.49955 -188.97488] 0\n",
      "[ 216.56712 -401.7742 ] 0\n",
      "[ -91.73793 -112.05687] 0\n"
     ]
    },
    {
     "name": "stderr",
     "output_type": "stream",
     "text": [
      "INFO:absl:epoch: 5, train_loss: 760.4836, train_accuracy: 53.28, test1_accuracy: 50.00, test2_accuracy: 50.00, core_penalty: 2860.4678\n"
     ]
    },
    {
     "name": "stdout",
     "output_type": "stream",
     "text": [
      "[ 185.1877  -188.00638] 0\n",
      "[ 247.14268 -208.26068] 0\n",
      "[ 268.83856 -241.14745] 0\n",
      "[ 122.35627 -162.69446] 0\n"
     ]
    },
    {
     "name": "stderr",
     "output_type": "stream",
     "text": [
      "INFO:absl:epoch: 6, train_loss: 412.6060, train_accuracy: 50.32, test1_accuracy: 50.00, test2_accuracy: 50.00, core_penalty: 1253.8129\n"
     ]
    },
    {
     "name": "stdout",
     "output_type": "stream",
     "text": [
      "[ 47.743065 -45.72771 ] 0\n",
      "[ 79.88215  -32.028225] 0\n",
      "[ 52.928596 -29.010437] 0\n",
      "[  1.6281586 -19.713879 ] 0\n"
     ]
    },
    {
     "name": "stderr",
     "output_type": "stream",
     "text": [
      "INFO:absl:epoch: 7, train_loss: 330.4265, train_accuracy: 51.62, test1_accuracy: 50.00, test2_accuracy: 50.00, core_penalty: 883.8050\n"
     ]
    },
    {
     "name": "stdout",
     "output_type": "stream",
     "text": [
      "[  0.91374826 -23.972328  ] 0\n",
      "[-4.015352 13.961681] 1\n",
      "[-21.473238   5.57264 ] 1\n",
      "[-51.099304  18.286224] 1\n"
     ]
    },
    {
     "name": "stderr",
     "output_type": "stream",
     "text": [
      "INFO:absl:epoch: 8, train_loss: 344.9902, train_accuracy: 51.20, test1_accuracy: 50.00, test2_accuracy: 50.00, core_penalty: 906.9407\n"
     ]
    },
    {
     "name": "stdout",
     "output_type": "stream",
     "text": [
      "[-135.15146  135.80136] 1\n",
      "[-96.30327 134.01993] 1\n",
      "[-164.92245  194.15451] 1\n",
      "[-112.13342  114.66275] 1\n"
     ]
    },
    {
     "name": "stderr",
     "output_type": "stream",
     "text": [
      "INFO:absl:epoch: 9, train_loss: 302.9101, train_accuracy: 52.36, test1_accuracy: 50.00, test2_accuracy: 50.00, core_penalty: 804.0045\n"
     ]
    },
    {
     "name": "stdout",
     "output_type": "stream",
     "text": [
      "[  97.64843  -117.604614] 0\n",
      "[ 118.73321 -128.3952 ] 0\n",
      "[  86.936165 -104.55049 ] 0\n",
      "[  79.41338  -101.651566] 0\n"
     ]
    },
    {
     "name": "stderr",
     "output_type": "stream",
     "text": [
      "INFO:absl:epoch: 10, train_loss: 667.0873, train_accuracy: 50.76, test1_accuracy: 75.00, test2_accuracy: 50.00, core_penalty: 2306.2197\n"
     ]
    },
    {
     "name": "stdout",
     "output_type": "stream",
     "text": [
      "[-71.65289  47.90371] 1\n",
      "[-349.95224  395.9192 ] 1\n",
      "[-288.9389   318.12726] 1\n",
      "[-201.08897  238.34717] 1\n"
     ]
    },
    {
     "name": "stderr",
     "output_type": "stream",
     "text": [
      "INFO:absl:epoch: 11, train_loss: 491.3714, train_accuracy: 50.10, test1_accuracy: 75.00, test2_accuracy: 25.00, core_penalty: 1590.4712\n"
     ]
    },
    {
     "name": "stdout",
     "output_type": "stream",
     "text": [
      "[ 11.614214 -42.282566] 0\n",
      "[-39.41452      0.06045055] 1\n",
      "[ -1.2715054 -37.72749  ] 0\n",
      "[  2.427103 -25.348515] 0\n"
     ]
    },
    {
     "name": "stderr",
     "output_type": "stream",
     "text": [
      "INFO:absl:epoch: 12, train_loss: 274.6530, train_accuracy: 49.66, test1_accuracy: 50.00, test2_accuracy: 50.00, core_penalty: 590.4351\n"
     ]
    },
    {
     "name": "stdout",
     "output_type": "stream",
     "text": [
      "[ 91.546875 -84.59665 ] 0\n",
      "[ 49.41017 -55.63119] 0\n",
      "[ 77.16655 -98.0005 ] 0\n",
      "[ 65.89232 -59.92976] 0\n"
     ]
    },
    {
     "name": "stderr",
     "output_type": "stream",
     "text": [
      "INFO:absl:epoch: 13, train_loss: 218.7664, train_accuracy: 51.52, test1_accuracy: 50.00, test2_accuracy: 50.00, core_penalty: 434.0888\n"
     ]
    },
    {
     "name": "stdout",
     "output_type": "stream",
     "text": [
      "[-172.19221  206.14024] 1\n",
      "[-227.23512  279.23846] 1\n",
      "[-173.90297  211.93121] 1\n",
      "[-217.18088  264.8878 ] 1\n"
     ]
    },
    {
     "name": "stderr",
     "output_type": "stream",
     "text": [
      "INFO:absl:epoch: 14, train_loss: 270.1595, train_accuracy: 50.40, test1_accuracy: 75.00, test2_accuracy: 100.00, core_penalty: 590.9328\n"
     ]
    },
    {
     "name": "stdout",
     "output_type": "stream",
     "text": [
      "[10.981871   4.2190046] 0\n",
      "[-0.9527836 35.56144  ] 1\n",
      "[ 28.815172 -19.475624] 0\n",
      "[-0.3543911 26.58527  ] 1\n"
     ]
    },
    {
     "ename": "KeyboardInterrupt",
     "evalue": "",
     "output_type": "error",
     "traceback": [
      "\u001b[0;31m---------------------------------------------------------------------------\u001b[0m",
      "\u001b[0;31mKeyboardInterrupt\u001b[0m                         Traceback (most recent call last)",
      "Cell \u001b[0;32mIn[11], line 5\u001b[0m\n\u001b[1;32m      3\u001b[0m config\u001b[38;5;241m.\u001b[39mdecay_rate \u001b[38;5;241m=\u001b[39m \u001b[38;5;241m1.0\u001b[39m\n\u001b[1;32m      4\u001b[0m config\u001b[38;5;241m.\u001b[39mbatch_size \u001b[38;5;241m=\u001b[39m \u001b[38;5;241m240\u001b[39m\n\u001b[0;32m----> 5\u001b[0m state_pooled \u001b[38;5;241m=\u001b[39m \u001b[43mtrain\u001b[49m\u001b[38;5;241;43m.\u001b[39;49m\u001b[43mtrain_and_evaluate\u001b[49m\u001b[43m(\u001b[49m\u001b[43mconfig\u001b[49m\u001b[43m,\u001b[49m\u001b[43m \u001b[49m\u001b[43mworkdir\u001b[49m\u001b[38;5;241;43m=\u001b[39;49m\u001b[38;5;124;43mf\u001b[39;49m\u001b[38;5;124;43m\"\u001b[39;49m\u001b[38;5;124;43mmodels_decay/TEST_core\u001b[39;49m\u001b[38;5;124;43m\"\u001b[39;49m\u001b[43m,\u001b[49m\u001b[43m \u001b[49m\u001b[43mtrain_ds\u001b[49m\u001b[38;5;241;43m=\u001b[39;49m\u001b[43mtrain_ds\u001b[49m\u001b[43m,\u001b[49m\u001b[43m \u001b[49m\u001b[43mtest1_ds\u001b[49m\u001b[38;5;241;43m=\u001b[39;49m\u001b[43mtest1_ds\u001b[49m\u001b[43m,\u001b[49m\u001b[43m \u001b[49m\u001b[43mtest2_ds\u001b[49m\u001b[38;5;241;43m=\u001b[39;49m\u001b[43mtest2_ds\u001b[49m\u001b[43m)\u001b[49m\n",
      "File \u001b[0;32m~/semester_proj/train.py:177\u001b[0m, in \u001b[0;36mtrain_and_evaluate\u001b[0;34m(config, workdir, train_ds, test1_ds, test2_ds)\u001b[0m\n\u001b[1;32m    175\u001b[0m \u001b[38;5;28;01mfor\u001b[39;00m epoch \u001b[38;5;129;01min\u001b[39;00m \u001b[38;5;28mrange\u001b[39m(\u001b[38;5;241m1\u001b[39m, config\u001b[38;5;241m.\u001b[39mnum_epochs \u001b[38;5;241m+\u001b[39m \u001b[38;5;241m1\u001b[39m):\n\u001b[1;32m    176\u001b[0m     rng, input_rng \u001b[38;5;241m=\u001b[39m jax\u001b[38;5;241m.\u001b[39mrandom\u001b[38;5;241m.\u001b[39msplit(rng)\n\u001b[0;32m--> 177\u001b[0m     state, train_loss, train_accuracy, core_penalty \u001b[38;5;241m=\u001b[39m \u001b[43mtrain_epoch\u001b[49m\u001b[43m(\u001b[49m\u001b[43mstate\u001b[49m\u001b[43m,\u001b[49m\u001b[43m \u001b[49m\u001b[43mtrain_ds\u001b[49m\u001b[43m,\u001b[49m\u001b[43m \u001b[49m\u001b[43mconfig\u001b[49m\u001b[43m,\u001b[49m\u001b[43m \u001b[49m\u001b[43minput_rng\u001b[49m\u001b[43m)\u001b[49m\n\u001b[1;32m    178\u001b[0m     _, _, test1_accuracy, _ \u001b[38;5;241m=\u001b[39m apply_model(state, test1_ds[\u001b[38;5;124m'\u001b[39m\u001b[38;5;124mimage\u001b[39m\u001b[38;5;124m'\u001b[39m], test1_ds[\u001b[38;5;124m'\u001b[39m\u001b[38;5;124mlabel\u001b[39m\u001b[38;5;124m'\u001b[39m], jnp\u001b[38;5;241m.\u001b[39marange(\u001b[38;5;28mlen\u001b[39m(test1_ds[\u001b[38;5;124m'\u001b[39m\u001b[38;5;124mimage\u001b[39m\u001b[38;5;124m'\u001b[39m])), config\u001b[38;5;241m.\u001b[39mnum_classes, config\u001b[38;5;241m.\u001b[39mlambda_l2, config\u001b[38;5;241m.\u001b[39mlambda_core, train\u001b[38;5;241m=\u001b[39m\u001b[38;5;28;01mFalse\u001b[39;00m) \u001b[38;5;66;03m# TOD\u001b[39;00m\n\u001b[1;32m    179\u001b[0m     _, _, test2_accuracy, _ \u001b[38;5;241m=\u001b[39m apply_model(state, test2_ds[\u001b[38;5;124m'\u001b[39m\u001b[38;5;124mimage\u001b[39m\u001b[38;5;124m'\u001b[39m], test2_ds[\u001b[38;5;124m'\u001b[39m\u001b[38;5;124mlabel\u001b[39m\u001b[38;5;124m'\u001b[39m], jnp\u001b[38;5;241m.\u001b[39marange(\u001b[38;5;28mlen\u001b[39m(test2_ds[\u001b[38;5;124m'\u001b[39m\u001b[38;5;124mimage\u001b[39m\u001b[38;5;124m'\u001b[39m])), config\u001b[38;5;241m.\u001b[39mnum_classes, config\u001b[38;5;241m.\u001b[39mlambda_l2, config\u001b[38;5;241m.\u001b[39mlambda_core,train\u001b[38;5;241m=\u001b[39m\u001b[38;5;28;01mFalse\u001b[39;00m) \u001b[38;5;66;03m# TOD\u001b[39;00m\n",
      "File \u001b[0;32m~/semester_proj/train.py:133\u001b[0m, in \u001b[0;36mtrain_epoch\u001b[0;34m(state, train_ds, config, rng)\u001b[0m\n\u001b[1;32m    130\u001b[0m batch_labels \u001b[38;5;241m=\u001b[39m train_ds[\u001b[38;5;124m'\u001b[39m\u001b[38;5;124mlabel\u001b[39m\u001b[38;5;124m'\u001b[39m][perm, \u001b[38;5;241m.\u001b[39m\u001b[38;5;241m.\u001b[39m\u001b[38;5;241m.\u001b[39m]\n\u001b[1;32m    131\u001b[0m batch_ids \u001b[38;5;241m=\u001b[39m train_ds[\u001b[38;5;124m'\u001b[39m\u001b[38;5;124mid\u001b[39m\u001b[38;5;124m'\u001b[39m][perm, \u001b[38;5;241m.\u001b[39m\u001b[38;5;241m.\u001b[39m\u001b[38;5;241m.\u001b[39m]\n\u001b[0;32m--> 133\u001b[0m grads, loss, accuracy, core_pen \u001b[38;5;241m=\u001b[39m \u001b[43mapply_model\u001b[49m\u001b[43m(\u001b[49m\u001b[43mstate\u001b[49m\u001b[43m,\u001b[49m\u001b[43m \u001b[49m\u001b[43mbatch_images\u001b[49m\u001b[43m,\u001b[49m\u001b[43m \u001b[49m\u001b[43mbatch_labels\u001b[49m\u001b[43m,\u001b[49m\u001b[43m \u001b[49m\u001b[43mbatch_ids\u001b[49m\u001b[43m,\u001b[49m\u001b[43m \u001b[49m\u001b[43mconfig\u001b[49m\u001b[38;5;241;43m.\u001b[39;49m\u001b[43mnum_classes\u001b[49m\u001b[43m,\u001b[49m\u001b[43m \u001b[49m\u001b[43mconfig\u001b[49m\u001b[38;5;241;43m.\u001b[39;49m\u001b[43mlambda_l2\u001b[49m\u001b[43m,\u001b[49m\u001b[43m \u001b[49m\u001b[43mconfig\u001b[49m\u001b[38;5;241;43m.\u001b[39;49m\u001b[43mlambda_core\u001b[49m\u001b[43m)\u001b[49m\n\u001b[1;32m    134\u001b[0m state \u001b[38;5;241m=\u001b[39m update_model(state, grads)\n\u001b[1;32m    135\u001b[0m epoch_loss\u001b[38;5;241m.\u001b[39mappend(loss)\n",
      "File \u001b[0;32m~/semester_proj/train.py:101\u001b[0m, in \u001b[0;36mapply_model\u001b[0;34m(state, images, labels, ids, num_classes, lambda_l2, lambda_core, train)\u001b[0m\n\u001b[1;32m     98\u001b[0m     \u001b[38;5;28;01mreturn\u001b[39;00m loss, (logits, core_pen)\n\u001b[1;32m    100\u001b[0m grad_fn \u001b[38;5;241m=\u001b[39m jax\u001b[38;5;241m.\u001b[39mvalue_and_grad(loss_fn, has_aux\u001b[38;5;241m=\u001b[39m\u001b[38;5;28;01mTrue\u001b[39;00m)  \u001b[38;5;66;03m# auxiliary data\u001b[39;00m\n\u001b[0;32m--> 101\u001b[0m (loss, (logits, core_pen)), grads \u001b[38;5;241m=\u001b[39m \u001b[43mgrad_fn\u001b[49m\u001b[43m(\u001b[49m\u001b[43mstate\u001b[49m\u001b[38;5;241;43m.\u001b[39;49m\u001b[43mparams\u001b[49m\u001b[43m)\u001b[49m\n\u001b[1;32m    102\u001b[0m accuracy \u001b[38;5;241m=\u001b[39m jnp\u001b[38;5;241m.\u001b[39mmean(jnp\u001b[38;5;241m.\u001b[39margmax(logits, \u001b[38;5;241m-\u001b[39m\u001b[38;5;241m1\u001b[39m) \u001b[38;5;241m==\u001b[39m labels)\n\u001b[1;32m    103\u001b[0m \u001b[38;5;28;01mif\u001b[39;00m train \u001b[38;5;241m==\u001b[39m \u001b[38;5;28;01mFalse\u001b[39;00m:\n",
      "    \u001b[0;31m[... skipping hidden 1 frame]\u001b[0m\n",
      "File \u001b[0;32m~/miniconda3/envs/sdsc_proj/lib/python3.10/site-packages/jax/_src/api.py:747\u001b[0m, in \u001b[0;36mvalue_and_grad.<locals>.value_and_grad_f\u001b[0;34m(*args, **kwargs)\u001b[0m\n\u001b[1;32m    745\u001b[0m   ans, vjp_py \u001b[38;5;241m=\u001b[39m _vjp(f_partial, \u001b[38;5;241m*\u001b[39mdyn_args, reduce_axes\u001b[38;5;241m=\u001b[39mreduce_axes)\n\u001b[1;32m    746\u001b[0m \u001b[38;5;28;01melse\u001b[39;00m:\n\u001b[0;32m--> 747\u001b[0m   ans, vjp_py, aux \u001b[38;5;241m=\u001b[39m \u001b[43m_vjp\u001b[49m\u001b[43m(\u001b[49m\n\u001b[1;32m    748\u001b[0m \u001b[43m      \u001b[49m\u001b[43mf_partial\u001b[49m\u001b[43m,\u001b[49m\u001b[43m \u001b[49m\u001b[38;5;241;43m*\u001b[39;49m\u001b[43mdyn_args\u001b[49m\u001b[43m,\u001b[49m\u001b[43m \u001b[49m\u001b[43mhas_aux\u001b[49m\u001b[38;5;241;43m=\u001b[39;49m\u001b[38;5;28;43;01mTrue\u001b[39;49;00m\u001b[43m,\u001b[49m\u001b[43m \u001b[49m\u001b[43mreduce_axes\u001b[49m\u001b[38;5;241;43m=\u001b[39;49m\u001b[43mreduce_axes\u001b[49m\u001b[43m)\u001b[49m\n\u001b[1;32m    749\u001b[0m _check_scalar(ans)\n\u001b[1;32m    750\u001b[0m tree_map(partial(_check_output_dtype_grad, holomorphic), ans)\n",
      "File \u001b[0;32m~/miniconda3/envs/sdsc_proj/lib/python3.10/site-packages/jax/_src/api.py:2243\u001b[0m, in \u001b[0;36m_vjp\u001b[0;34m(fun, has_aux, reduce_axes, *primals)\u001b[0m\n\u001b[1;32m   2241\u001b[0m \u001b[38;5;28;01melse\u001b[39;00m:\n\u001b[1;32m   2242\u001b[0m   flat_fun, out_aux_trees \u001b[38;5;241m=\u001b[39m flatten_fun_nokwargs2(fun, in_tree)\n\u001b[0;32m-> 2243\u001b[0m   out_primal, out_vjp, aux \u001b[38;5;241m=\u001b[39m \u001b[43mad\u001b[49m\u001b[38;5;241;43m.\u001b[39;49m\u001b[43mvjp\u001b[49m\u001b[43m(\u001b[49m\n\u001b[1;32m   2244\u001b[0m \u001b[43m      \u001b[49m\u001b[43mflat_fun\u001b[49m\u001b[43m,\u001b[49m\u001b[43m \u001b[49m\u001b[43mprimals_flat\u001b[49m\u001b[43m,\u001b[49m\u001b[43m \u001b[49m\u001b[43mhas_aux\u001b[49m\u001b[38;5;241;43m=\u001b[39;49m\u001b[38;5;28;43;01mTrue\u001b[39;49;00m\u001b[43m,\u001b[49m\u001b[43m \u001b[49m\u001b[43mreduce_axes\u001b[49m\u001b[38;5;241;43m=\u001b[39;49m\u001b[43mreduce_axes\u001b[49m\u001b[43m)\u001b[49m\n\u001b[1;32m   2245\u001b[0m   out_tree, aux_tree \u001b[38;5;241m=\u001b[39m out_aux_trees()\n\u001b[1;32m   2246\u001b[0m out_primal_py \u001b[38;5;241m=\u001b[39m tree_unflatten(out_tree, out_primal)\n",
      "File \u001b[0;32m~/miniconda3/envs/sdsc_proj/lib/python3.10/site-packages/jax/_src/interpreters/ad.py:145\u001b[0m, in \u001b[0;36mvjp\u001b[0;34m(traceable, primals, has_aux, reduce_axes)\u001b[0m\n\u001b[1;32m    143\u001b[0m   out_primals, pvals, jaxpr, consts \u001b[38;5;241m=\u001b[39m linearize(traceable, \u001b[38;5;241m*\u001b[39mprimals)\n\u001b[1;32m    144\u001b[0m \u001b[38;5;28;01melse\u001b[39;00m:\n\u001b[0;32m--> 145\u001b[0m   out_primals, pvals, jaxpr, consts, aux \u001b[38;5;241m=\u001b[39m \u001b[43mlinearize\u001b[49m\u001b[43m(\u001b[49m\u001b[43mtraceable\u001b[49m\u001b[43m,\u001b[49m\u001b[43m \u001b[49m\u001b[38;5;241;43m*\u001b[39;49m\u001b[43mprimals\u001b[49m\u001b[43m,\u001b[49m\u001b[43m \u001b[49m\u001b[43mhas_aux\u001b[49m\u001b[38;5;241;43m=\u001b[39;49m\u001b[38;5;28;43;01mTrue\u001b[39;49;00m\u001b[43m)\u001b[49m\n\u001b[1;32m    147\u001b[0m \u001b[38;5;28;01mdef\u001b[39;00m \u001b[38;5;21munbound_vjp\u001b[39m(pvals, jaxpr, consts, \u001b[38;5;241m*\u001b[39mcts):\n\u001b[1;32m    148\u001b[0m   cts \u001b[38;5;241m=\u001b[39m \u001b[38;5;28mtuple\u001b[39m(ct \u001b[38;5;28;01mfor\u001b[39;00m ct, pval \u001b[38;5;129;01min\u001b[39;00m \u001b[38;5;28mzip\u001b[39m(cts, pvals) \u001b[38;5;28;01mif\u001b[39;00m \u001b[38;5;129;01mnot\u001b[39;00m pval\u001b[38;5;241m.\u001b[39mis_known())\n",
      "File \u001b[0;32m~/miniconda3/envs/sdsc_proj/lib/python3.10/site-packages/jax/_src/interpreters/ad.py:132\u001b[0m, in \u001b[0;36mlinearize\u001b[0;34m(traceable, *primals, **kwargs)\u001b[0m\n\u001b[1;32m    130\u001b[0m _, in_tree \u001b[38;5;241m=\u001b[39m tree_flatten(((primals, primals), {}))\n\u001b[1;32m    131\u001b[0m jvpfun_flat, out_tree \u001b[38;5;241m=\u001b[39m flatten_fun(jvpfun, in_tree)\n\u001b[0;32m--> 132\u001b[0m jaxpr, out_pvals, consts \u001b[38;5;241m=\u001b[39m \u001b[43mpe\u001b[49m\u001b[38;5;241;43m.\u001b[39;49m\u001b[43mtrace_to_jaxpr_nounits\u001b[49m\u001b[43m(\u001b[49m\u001b[43mjvpfun_flat\u001b[49m\u001b[43m,\u001b[49m\u001b[43m \u001b[49m\u001b[43min_pvals\u001b[49m\u001b[43m)\u001b[49m\n\u001b[1;32m    133\u001b[0m out_primals_pvals, out_tangents_pvals \u001b[38;5;241m=\u001b[39m tree_unflatten(out_tree(), out_pvals)\n\u001b[1;32m    134\u001b[0m \u001b[38;5;28;01massert\u001b[39;00m \u001b[38;5;28mall\u001b[39m(out_primal_pval\u001b[38;5;241m.\u001b[39mis_known() \u001b[38;5;28;01mfor\u001b[39;00m out_primal_pval \u001b[38;5;129;01min\u001b[39;00m out_primals_pvals)\n",
      "File \u001b[0;32m~/miniconda3/envs/sdsc_proj/lib/python3.10/site-packages/jax/_src/profiler.py:336\u001b[0m, in \u001b[0;36mannotate_function.<locals>.wrapper\u001b[0;34m(*args, **kwargs)\u001b[0m\n\u001b[1;32m    333\u001b[0m \u001b[38;5;129m@wraps\u001b[39m(func)\n\u001b[1;32m    334\u001b[0m \u001b[38;5;28;01mdef\u001b[39;00m \u001b[38;5;21mwrapper\u001b[39m(\u001b[38;5;241m*\u001b[39margs, \u001b[38;5;241m*\u001b[39m\u001b[38;5;241m*\u001b[39mkwargs):\n\u001b[1;32m    335\u001b[0m   \u001b[38;5;28;01mwith\u001b[39;00m TraceAnnotation(name, \u001b[38;5;241m*\u001b[39m\u001b[38;5;241m*\u001b[39mdecorator_kwargs):\n\u001b[0;32m--> 336\u001b[0m     \u001b[38;5;28;01mreturn\u001b[39;00m \u001b[43mfunc\u001b[49m\u001b[43m(\u001b[49m\u001b[38;5;241;43m*\u001b[39;49m\u001b[43margs\u001b[49m\u001b[43m,\u001b[49m\u001b[43m \u001b[49m\u001b[38;5;241;43m*\u001b[39;49m\u001b[38;5;241;43m*\u001b[39;49m\u001b[43mkwargs\u001b[49m\u001b[43m)\u001b[49m\n\u001b[1;32m    337\u001b[0m   \u001b[38;5;28;01mreturn\u001b[39;00m wrapper\n",
      "File \u001b[0;32m~/miniconda3/envs/sdsc_proj/lib/python3.10/site-packages/jax/_src/interpreters/partial_eval.py:774\u001b[0m, in \u001b[0;36mtrace_to_jaxpr_nounits\u001b[0;34m(fun, pvals, instantiate)\u001b[0m\n\u001b[1;32m    772\u001b[0m \u001b[38;5;28;01mwith\u001b[39;00m core\u001b[38;5;241m.\u001b[39mnew_main(JaxprTrace, name_stack\u001b[38;5;241m=\u001b[39mcurrent_name_stack) \u001b[38;5;28;01mas\u001b[39;00m main:\n\u001b[1;32m    773\u001b[0m   fun \u001b[38;5;241m=\u001b[39m trace_to_subjaxpr_nounits(fun, main, instantiate)\n\u001b[0;32m--> 774\u001b[0m   jaxpr, (out_pvals, consts, env) \u001b[38;5;241m=\u001b[39m \u001b[43mfun\u001b[49m\u001b[38;5;241;43m.\u001b[39;49m\u001b[43mcall_wrapped\u001b[49m\u001b[43m(\u001b[49m\u001b[43mpvals\u001b[49m\u001b[43m)\u001b[49m\n\u001b[1;32m    775\u001b[0m   \u001b[38;5;28;01massert\u001b[39;00m \u001b[38;5;129;01mnot\u001b[39;00m env\n\u001b[1;32m    776\u001b[0m   \u001b[38;5;28;01mdel\u001b[39;00m main, fun, env\n",
      "File \u001b[0;32m~/miniconda3/envs/sdsc_proj/lib/python3.10/site-packages/jax/_src/linear_util.py:192\u001b[0m, in \u001b[0;36mWrappedFun.call_wrapped\u001b[0;34m(self, *args, **kwargs)\u001b[0m\n\u001b[1;32m    189\u001b[0m gen \u001b[38;5;241m=\u001b[39m gen_static_args \u001b[38;5;241m=\u001b[39m out_store \u001b[38;5;241m=\u001b[39m \u001b[38;5;28;01mNone\u001b[39;00m\n\u001b[1;32m    191\u001b[0m \u001b[38;5;28;01mtry\u001b[39;00m:\n\u001b[0;32m--> 192\u001b[0m   ans \u001b[38;5;241m=\u001b[39m \u001b[38;5;28;43mself\u001b[39;49m\u001b[38;5;241;43m.\u001b[39;49m\u001b[43mf\u001b[49m\u001b[43m(\u001b[49m\u001b[38;5;241;43m*\u001b[39;49m\u001b[43margs\u001b[49m\u001b[43m,\u001b[49m\u001b[43m \u001b[49m\u001b[38;5;241;43m*\u001b[39;49m\u001b[38;5;241;43m*\u001b[39;49m\u001b[38;5;28;43mdict\u001b[39;49m\u001b[43m(\u001b[49m\u001b[38;5;28;43mself\u001b[39;49m\u001b[38;5;241;43m.\u001b[39;49m\u001b[43mparams\u001b[49m\u001b[43m,\u001b[49m\u001b[43m \u001b[49m\u001b[38;5;241;43m*\u001b[39;49m\u001b[38;5;241;43m*\u001b[39;49m\u001b[43mkwargs\u001b[49m\u001b[43m)\u001b[49m\u001b[43m)\u001b[49m\n\u001b[1;32m    193\u001b[0m \u001b[38;5;28;01mexcept\u001b[39;00m:\n\u001b[1;32m    194\u001b[0m   \u001b[38;5;66;03m# Some transformations yield from inside context managers, so we have to\u001b[39;00m\n\u001b[1;32m    195\u001b[0m   \u001b[38;5;66;03m# interrupt them before reraising the exception. Otherwise they will only\u001b[39;00m\n\u001b[1;32m    196\u001b[0m   \u001b[38;5;66;03m# get garbage-collected at some later time, running their cleanup tasks\u001b[39;00m\n\u001b[1;32m    197\u001b[0m   \u001b[38;5;66;03m# only after this exception is handled, which can corrupt the global\u001b[39;00m\n\u001b[1;32m    198\u001b[0m   \u001b[38;5;66;03m# state.\u001b[39;00m\n\u001b[1;32m    199\u001b[0m   \u001b[38;5;28;01mwhile\u001b[39;00m stack:\n",
      "File \u001b[0;32m~/semester_proj/train.py:91\u001b[0m, in \u001b[0;36mapply_model.<locals>.loss_fn\u001b[0;34m(params)\u001b[0m\n\u001b[1;32m     90\u001b[0m \u001b[38;5;28;01mdef\u001b[39;00m \u001b[38;5;21mloss_fn\u001b[39m(params):\n\u001b[0;32m---> 91\u001b[0m     logits \u001b[38;5;241m=\u001b[39m \u001b[43mstate\u001b[49m\u001b[38;5;241;43m.\u001b[39;49m\u001b[43mapply_fn\u001b[49m\u001b[43m(\u001b[49m\u001b[43m{\u001b[49m\u001b[38;5;124;43m'\u001b[39;49m\u001b[38;5;124;43mparams\u001b[39;49m\u001b[38;5;124;43m'\u001b[39;49m\u001b[43m:\u001b[49m\u001b[43m \u001b[49m\u001b[43mparams\u001b[49m\u001b[43m}\u001b[49m\u001b[43m,\u001b[49m\u001b[43m \u001b[49m\u001b[43mimages\u001b[49m\u001b[43m)\u001b[49m  \u001b[38;5;66;03m# forward pass\u001b[39;00m\n\u001b[1;32m     92\u001b[0m     one_hot \u001b[38;5;241m=\u001b[39m jax\u001b[38;5;241m.\u001b[39mnn\u001b[38;5;241m.\u001b[39mone_hot(labels, num_classes)\n\u001b[1;32m     93\u001b[0m     loss \u001b[38;5;241m=\u001b[39m jnp\u001b[38;5;241m.\u001b[39mmean(optax\u001b[38;5;241m.\u001b[39msoftmax_cross_entropy(logits\u001b[38;5;241m=\u001b[39mlogits, labels\u001b[38;5;241m=\u001b[39mone_hot))\n",
      "    \u001b[0;31m[... skipping hidden 1 frame]\u001b[0m\n",
      "File \u001b[0;32m~/miniconda3/envs/sdsc_proj/lib/python3.10/site-packages/flax/linen/module.py:2114\u001b[0m, in \u001b[0;36mModule.apply\u001b[0;34m(self, variables, rngs, method, mutable, capture_intermediates, *args, **kwargs)\u001b[0m\n\u001b[1;32m   2112\u001b[0m   method \u001b[38;5;241m=\u001b[39m \u001b[38;5;28mself\u001b[39m\u001b[38;5;241m.\u001b[39m\u001b[38;5;21m__call__\u001b[39m\n\u001b[1;32m   2113\u001b[0m method \u001b[38;5;241m=\u001b[39m _get_unbound_fn(method)\n\u001b[0;32m-> 2114\u001b[0m \u001b[38;5;28;01mreturn\u001b[39;00m \u001b[43mapply\u001b[49m\u001b[43m(\u001b[49m\n\u001b[1;32m   2115\u001b[0m \u001b[43m  \u001b[49m\u001b[43mmethod\u001b[49m\u001b[43m,\u001b[49m\n\u001b[1;32m   2116\u001b[0m \u001b[43m  \u001b[49m\u001b[38;5;28;43mself\u001b[39;49m\u001b[43m,\u001b[49m\n\u001b[1;32m   2117\u001b[0m \u001b[43m  \u001b[49m\u001b[43mmutable\u001b[49m\u001b[38;5;241;43m=\u001b[39;49m\u001b[43mmutable\u001b[49m\u001b[43m,\u001b[49m\n\u001b[1;32m   2118\u001b[0m \u001b[43m  \u001b[49m\u001b[43mcapture_intermediates\u001b[49m\u001b[38;5;241;43m=\u001b[39;49m\u001b[43mcapture_intermediates\u001b[49m\u001b[43m,\u001b[49m\n\u001b[1;32m   2119\u001b[0m \u001b[43m\u001b[49m\u001b[43m)\u001b[49m\u001b[43m(\u001b[49m\u001b[43mvariables\u001b[49m\u001b[43m,\u001b[49m\u001b[43m \u001b[49m\u001b[38;5;241;43m*\u001b[39;49m\u001b[43margs\u001b[49m\u001b[43m,\u001b[49m\u001b[43m \u001b[49m\u001b[38;5;241;43m*\u001b[39;49m\u001b[38;5;241;43m*\u001b[39;49m\u001b[43mkwargs\u001b[49m\u001b[43m,\u001b[49m\u001b[43m \u001b[49m\u001b[43mrngs\u001b[49m\u001b[38;5;241;43m=\u001b[39;49m\u001b[43mrngs\u001b[49m\u001b[43m)\u001b[49m\n",
      "File \u001b[0;32m~/miniconda3/envs/sdsc_proj/lib/python3.10/site-packages/flax/core/scope.py:1069\u001b[0m, in \u001b[0;36mapply.<locals>.wrapper\u001b[0;34m(variables, rngs, *args, **kwargs)\u001b[0m\n\u001b[1;32m   1064\u001b[0m   \u001b[38;5;28;01mraise\u001b[39;00m errors\u001b[38;5;241m.\u001b[39mApplyScopeInvalidVariablesStructureError(variables)\n\u001b[1;32m   1066\u001b[0m \u001b[38;5;28;01mwith\u001b[39;00m bind(\n\u001b[1;32m   1067\u001b[0m   variables, rngs\u001b[38;5;241m=\u001b[39mrngs, mutable\u001b[38;5;241m=\u001b[39mmutable, flags\u001b[38;5;241m=\u001b[39mflags\n\u001b[1;32m   1068\u001b[0m )\u001b[38;5;241m.\u001b[39mtemporary() \u001b[38;5;28;01mas\u001b[39;00m root:\n\u001b[0;32m-> 1069\u001b[0m   y \u001b[38;5;241m=\u001b[39m \u001b[43mfn\u001b[49m\u001b[43m(\u001b[49m\u001b[43mroot\u001b[49m\u001b[43m,\u001b[49m\u001b[43m \u001b[49m\u001b[38;5;241;43m*\u001b[39;49m\u001b[43margs\u001b[49m\u001b[43m,\u001b[49m\u001b[43m \u001b[49m\u001b[38;5;241;43m*\u001b[39;49m\u001b[38;5;241;43m*\u001b[39;49m\u001b[43mkwargs\u001b[49m\u001b[43m)\u001b[49m\n\u001b[1;32m   1070\u001b[0m \u001b[38;5;28;01mif\u001b[39;00m mutable \u001b[38;5;129;01mis\u001b[39;00m \u001b[38;5;129;01mnot\u001b[39;00m \u001b[38;5;28;01mFalse\u001b[39;00m:\n\u001b[1;32m   1071\u001b[0m   \u001b[38;5;28;01mreturn\u001b[39;00m y, root\u001b[38;5;241m.\u001b[39mmutable_variables()\n",
      "File \u001b[0;32m~/miniconda3/envs/sdsc_proj/lib/python3.10/site-packages/flax/linen/module.py:2863\u001b[0m, in \u001b[0;36mapply.<locals>.scope_fn\u001b[0;34m(scope, *args, **kwargs)\u001b[0m\n\u001b[1;32m   2861\u001b[0m _context\u001b[38;5;241m.\u001b[39mcapture_stack\u001b[38;5;241m.\u001b[39mappend(capture_intermediates)\n\u001b[1;32m   2862\u001b[0m \u001b[38;5;28;01mtry\u001b[39;00m:\n\u001b[0;32m-> 2863\u001b[0m   \u001b[38;5;28;01mreturn\u001b[39;00m \u001b[43mfn\u001b[49m\u001b[43m(\u001b[49m\u001b[43mmodule\u001b[49m\u001b[38;5;241;43m.\u001b[39;49m\u001b[43mclone\u001b[49m\u001b[43m(\u001b[49m\u001b[43mparent\u001b[49m\u001b[38;5;241;43m=\u001b[39;49m\u001b[43mscope\u001b[49m\u001b[43m,\u001b[49m\u001b[43m \u001b[49m\u001b[43m_deep_clone\u001b[49m\u001b[38;5;241;43m=\u001b[39;49m\u001b[38;5;28;43;01mTrue\u001b[39;49;00m\u001b[43m)\u001b[49m\u001b[43m,\u001b[49m\u001b[43m \u001b[49m\u001b[38;5;241;43m*\u001b[39;49m\u001b[43margs\u001b[49m\u001b[43m,\u001b[49m\u001b[43m \u001b[49m\u001b[38;5;241;43m*\u001b[39;49m\u001b[38;5;241;43m*\u001b[39;49m\u001b[43mkwargs\u001b[49m\u001b[43m)\u001b[49m\n\u001b[1;32m   2864\u001b[0m \u001b[38;5;28;01mfinally\u001b[39;00m:\n\u001b[1;32m   2865\u001b[0m   _context\u001b[38;5;241m.\u001b[39mcapture_stack\u001b[38;5;241m.\u001b[39mpop()\n",
      "File \u001b[0;32m~/miniconda3/envs/sdsc_proj/lib/python3.10/site-packages/flax/linen/module.py:692\u001b[0m, in \u001b[0;36mwrap_method_once.<locals>.wrapped_module_method\u001b[0;34m(*args, **kwargs)\u001b[0m\n\u001b[1;32m    690\u001b[0m \u001b[38;5;28;01mif\u001b[39;00m args \u001b[38;5;129;01mand\u001b[39;00m \u001b[38;5;28misinstance\u001b[39m(args[\u001b[38;5;241m0\u001b[39m], Module):\n\u001b[1;32m    691\u001b[0m   \u001b[38;5;28mself\u001b[39m, args \u001b[38;5;241m=\u001b[39m args[\u001b[38;5;241m0\u001b[39m], args[\u001b[38;5;241m1\u001b[39m:]\n\u001b[0;32m--> 692\u001b[0m   \u001b[38;5;28;01mreturn\u001b[39;00m \u001b[38;5;28;43mself\u001b[39;49m\u001b[38;5;241;43m.\u001b[39;49m\u001b[43m_call_wrapped_method\u001b[49m\u001b[43m(\u001b[49m\u001b[43mfun\u001b[49m\u001b[43m,\u001b[49m\u001b[43m \u001b[49m\u001b[43margs\u001b[49m\u001b[43m,\u001b[49m\u001b[43m \u001b[49m\u001b[43mkwargs\u001b[49m\u001b[43m)\u001b[49m\n\u001b[1;32m    693\u001b[0m \u001b[38;5;28;01melse\u001b[39;00m:\n\u001b[1;32m    694\u001b[0m   \u001b[38;5;28;01mreturn\u001b[39;00m fun(\u001b[38;5;241m*\u001b[39margs, \u001b[38;5;241m*\u001b[39m\u001b[38;5;241m*\u001b[39mkwargs)\n",
      "File \u001b[0;32m~/miniconda3/envs/sdsc_proj/lib/python3.10/site-packages/flax/linen/module.py:1224\u001b[0m, in \u001b[0;36mModule._call_wrapped_method\u001b[0;34m(self, fun, args, kwargs)\u001b[0m\n\u001b[1;32m   1222\u001b[0m \u001b[38;5;28;01mif\u001b[39;00m _use_named_call:\n\u001b[1;32m   1223\u001b[0m   \u001b[38;5;28;01mwith\u001b[39;00m jax\u001b[38;5;241m.\u001b[39mnamed_scope(_derive_profiling_name(\u001b[38;5;28mself\u001b[39m, fun)):\n\u001b[0;32m-> 1224\u001b[0m     y \u001b[38;5;241m=\u001b[39m \u001b[43mrun_fun\u001b[49m\u001b[43m(\u001b[49m\u001b[38;5;28;43mself\u001b[39;49m\u001b[43m,\u001b[49m\u001b[43m \u001b[49m\u001b[38;5;241;43m*\u001b[39;49m\u001b[43margs\u001b[49m\u001b[43m,\u001b[49m\u001b[43m \u001b[49m\u001b[38;5;241;43m*\u001b[39;49m\u001b[38;5;241;43m*\u001b[39;49m\u001b[43mkwargs\u001b[49m\u001b[43m)\u001b[49m\n\u001b[1;32m   1225\u001b[0m \u001b[38;5;28;01melse\u001b[39;00m:\n\u001b[1;32m   1226\u001b[0m   y \u001b[38;5;241m=\u001b[39m run_fun(\u001b[38;5;28mself\u001b[39m, \u001b[38;5;241m*\u001b[39margs, \u001b[38;5;241m*\u001b[39m\u001b[38;5;241m*\u001b[39mkwargs)\n",
      "File \u001b[0;32m~/semester_proj/train.py:39\u001b[0m, in \u001b[0;36mCNN_celebA.__call__\u001b[0;34m(self, x)\u001b[0m\n\u001b[1;32m     37\u001b[0m x \u001b[38;5;241m=\u001b[39m nn\u001b[38;5;241m.\u001b[39mConv(features\u001b[38;5;241m=\u001b[39m\u001b[38;5;241m128\u001b[39m, kernel_size\u001b[38;5;241m=\u001b[39m(\u001b[38;5;241m5\u001b[39m, \u001b[38;5;241m5\u001b[39m), strides\u001b[38;5;241m=\u001b[39m(\u001b[38;5;241m2\u001b[39m, \u001b[38;5;241m2\u001b[39m))(x)\n\u001b[1;32m     38\u001b[0m x \u001b[38;5;241m=\u001b[39m nn\u001b[38;5;241m.\u001b[39mleaky_relu(x, negative_slope\u001b[38;5;241m=\u001b[39m\u001b[38;5;241m0.001\u001b[39m)\n\u001b[0;32m---> 39\u001b[0m x \u001b[38;5;241m=\u001b[39m x\u001b[38;5;241m.\u001b[39mreshape((\u001b[43mx\u001b[49m\u001b[38;5;241;43m.\u001b[39;49m\u001b[43mshape\u001b[49m[\u001b[38;5;241m0\u001b[39m], \u001b[38;5;241m-\u001b[39m\u001b[38;5;241m1\u001b[39m))\n\u001b[1;32m     40\u001b[0m x \u001b[38;5;241m=\u001b[39m nn\u001b[38;5;241m.\u001b[39mDense(features\u001b[38;5;241m=\u001b[39m\u001b[38;5;241m2\u001b[39m)(x)\n\u001b[1;32m     41\u001b[0m \u001b[38;5;28;01mreturn\u001b[39;00m x\n",
      "File \u001b[0;32m~/miniconda3/envs/sdsc_proj/lib/python3.10/site-packages/jax/_src/core.py:667\u001b[0m, in \u001b[0;36m_aval_property.<locals>.<lambda>\u001b[0;34m(self)\u001b[0m\n\u001b[1;32m    666\u001b[0m \u001b[38;5;28;01mdef\u001b[39;00m \u001b[38;5;21m_aval_property\u001b[39m(name):\n\u001b[0;32m--> 667\u001b[0m   \u001b[38;5;28;01mreturn\u001b[39;00m \u001b[38;5;28mproperty\u001b[39m(\u001b[38;5;28;01mlambda\u001b[39;00m \u001b[38;5;28mself\u001b[39m: \u001b[38;5;28mgetattr\u001b[39m(\u001b[38;5;28mself\u001b[39m\u001b[38;5;241m.\u001b[39maval, name))\n",
      "\u001b[0;31mKeyboardInterrupt\u001b[0m: "
     ]
    }
   ],
   "source": [
    "config = configs.celebA_experiment()\n",
    "config.learning_rate = 0.1\n",
    "config.decay_rate = 1.0\n",
    "config.batch_size = 240\n",
    "state_pooled = train.train_and_evaluate(config, workdir=f\"models_decay/TEST_core\", train_ds=train_ds, test1_ds=test1_ds, test2_ds=test2_ds)"
   ]
  },
  {
   "cell_type": "code",
   "execution_count": null,
   "metadata": {},
   "outputs": [],
   "source": []
  },
  {
   "cell_type": "code",
   "execution_count": null,
   "metadata": {},
   "outputs": [],
   "source": []
  },
  {
   "cell_type": "markdown",
   "metadata": {},
   "source": [
    "## CoRe estimator"
   ]
  },
  {
   "cell_type": "code",
   "execution_count": null,
   "metadata": {},
   "outputs": [],
   "source": [
    "# config = configs.celebA_experiment()\n",
    "config.lambda_core = 0.2\n",
    "state_core = train.train_and_evaluate(config, workdir=f\"models_decay/celebA_confound_core\", train_ds=train_ds, test1_ds=test1_ds, test2_ds=test2_ds)"
   ]
  }
 ],
 "metadata": {
  "kernelspec": {
   "display_name": "sdsc_proj",
   "language": "python",
   "name": "python3"
  },
  "language_info": {
   "codemirror_mode": {
    "name": "ipython",
    "version": 3
   },
   "file_extension": ".py",
   "mimetype": "text/x-python",
   "name": "python",
   "nbconvert_exporter": "python",
   "pygments_lexer": "ipython3",
   "version": "3.10.13"
  }
 },
 "nbformat": 4,
 "nbformat_minor": 2
}
