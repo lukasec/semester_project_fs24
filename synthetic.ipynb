{
 "cells": [
  {
   "cell_type": "code",
   "execution_count": 1,
   "metadata": {},
   "outputs": [],
   "source": [
    "import data_handler\n",
    "import configs\n",
    "import train\n",
    "import numpy as np\n",
    "import tensorflow as tf\n",
    "SEED = 7"
   ]
  },
  {
   "cell_type": "code",
   "execution_count": 2,
   "metadata": {},
   "outputs": [
    {
     "name": "stderr",
     "output_type": "stream",
     "text": [
      "2024-03-27 12:32:34.436218: W tensorflow/core/framework/local_rendezvous.cc:404] Local rendezvous is aborting with status: OUT_OF_RANGE: End of sequence\n",
      "2024-03-27 12:32:36.121883: W tensorflow/core/framework/local_rendezvous.cc:404] Local rendezvous is aborting with status: OUT_OF_RANGE: End of sequence\n",
      "2024-03-27 12:32:37.836244: W tensorflow/core/framework/local_rendezvous.cc:404] Local rendezvous is aborting with status: OUT_OF_RANGE: End of sequence\n"
     ]
    }
   ],
   "source": [
    "train_ds, test1_ds, test2_ds = data_handler.load_datasets_synthetic()"
   ]
  },
  {
   "cell_type": "code",
   "execution_count": 3,
   "metadata": {},
   "outputs": [
    {
     "name": "stderr",
     "output_type": "stream",
     "text": [
      "INFO:absl:epoch: 1, train_loss: 0.6293, train_accuracy: 99.37, test1_accuracy: 100.00, test2_accuracy: 10.18, core_penalty: 20.8745\n",
      "INFO:absl:epoch: 2, train_loss: 0.1321, train_accuracy: 100.00, test1_accuracy: 100.00, test2_accuracy: 8.56, core_penalty: 0.2952\n",
      "INFO:absl:epoch: 3, train_loss: 0.0757, train_accuracy: 99.79, test1_accuracy: 100.00, test2_accuracy: 33.98, core_penalty: 0.2350\n",
      "INFO:absl:epoch: 4, train_loss: 0.3211, train_accuracy: 99.17, test1_accuracy: 100.00, test2_accuracy: 21.81, core_penalty: 0.0027\n",
      "INFO:absl:epoch: 5, train_loss: 0.1425, train_accuracy: 99.98, test1_accuracy: 100.00, test2_accuracy: 30.93, core_penalty: 0.2221\n",
      "INFO:absl:epoch: 6, train_loss: 0.0426, train_accuracy: 99.98, test1_accuracy: 98.88, test2_accuracy: 49.44, core_penalty: 0.0397\n",
      "INFO:absl:epoch: 7, train_loss: 0.0682, train_accuracy: 99.54, test1_accuracy: 100.00, test2_accuracy: 21.85, core_penalty: 0.1078\n",
      "INFO:absl:epoch: 8, train_loss: 0.0368, train_accuracy: 100.00, test1_accuracy: 99.99, test2_accuracy: 37.19, core_penalty: 0.0164\n",
      "INFO:absl:epoch: 9, train_loss: 0.0210, train_accuracy: 100.00, test1_accuracy: 99.97, test2_accuracy: 36.66, core_penalty: 0.0510\n",
      "INFO:absl:epoch: 10, train_loss: 0.0196, train_accuracy: 99.97, test1_accuracy: 99.93, test2_accuracy: 45.44, core_penalty: 0.0601\n",
      "INFO:absl:epoch: 11, train_loss: 0.0167, train_accuracy: 100.00, test1_accuracy: 99.99, test2_accuracy: 31.15, core_penalty: 0.0237\n",
      "INFO:absl:epoch: 12, train_loss: 0.5223, train_accuracy: 98.08, test1_accuracy: 100.00, test2_accuracy: 16.25, core_penalty: 1.1180\n",
      "INFO:absl:epoch: 13, train_loss: 1.7139, train_accuracy: 99.49, test1_accuracy: 100.00, test2_accuracy: 16.38, core_penalty: 3.1027\n",
      "INFO:absl:epoch: 14, train_loss: 0.4315, train_accuracy: 99.97, test1_accuracy: 100.00, test2_accuracy: 10.63, core_penalty: 0.4646\n",
      "INFO:absl:epoch: 15, train_loss: 0.2247, train_accuracy: 99.99, test1_accuracy: 100.00, test2_accuracy: 12.62, core_penalty: 0.6767\n",
      "INFO:absl:epoch: 16, train_loss: 0.1319, train_accuracy: 100.00, test1_accuracy: 100.00, test2_accuracy: 15.91, core_penalty: 1.7835\n",
      "INFO:absl:epoch: 17, train_loss: 0.0823, train_accuracy: 100.00, test1_accuracy: 100.00, test2_accuracy: 22.73, core_penalty: 0.0091\n",
      "INFO:absl:epoch: 18, train_loss: 0.0544, train_accuracy: 100.00, test1_accuracy: 100.00, test2_accuracy: 28.42, core_penalty: 0.0011\n",
      "INFO:absl:epoch: 19, train_loss: 1.3217, train_accuracy: 99.34, test1_accuracy: 100.00, test2_accuracy: 26.43, core_penalty: 0.0000\n",
      "INFO:absl:epoch: 20, train_loss: 0.0812, train_accuracy: 99.93, test1_accuracy: 99.98, test2_accuracy: 35.87, core_penalty: 0.0050\n",
      "INFO:absl:epoch: 21, train_loss: 0.0489, train_accuracy: 99.99, test1_accuracy: 99.93, test2_accuracy: 43.12, core_penalty: 0.0059\n",
      "INFO:absl:epoch: 22, train_loss: 0.7787, train_accuracy: 99.00, test1_accuracy: 100.00, test2_accuracy: 10.63, core_penalty: 0.0085\n",
      "INFO:absl:epoch: 23, train_loss: 0.3036, train_accuracy: 99.90, test1_accuracy: 100.00, test2_accuracy: 29.50, core_penalty: 0.9858\n",
      "INFO:absl:epoch: 24, train_loss: 0.0795, train_accuracy: 99.98, test1_accuracy: 100.00, test2_accuracy: 27.42, core_penalty: 2.5717\n",
      "INFO:absl:epoch: 25, train_loss: 0.0870, train_accuracy: 99.81, test1_accuracy: 100.00, test2_accuracy: 16.62, core_penalty: 0.2398\n",
      "INFO:absl:epoch: 26, train_loss: 0.0417, train_accuracy: 100.00, test1_accuracy: 100.00, test2_accuracy: 30.35, core_penalty: 0.5716\n",
      "INFO:absl:epoch: 27, train_loss: 0.0307, train_accuracy: 100.00, test1_accuracy: 100.00, test2_accuracy: 24.90, core_penalty: 0.0049\n",
      "INFO:absl:epoch: 28, train_loss: 0.0255, train_accuracy: 99.98, test1_accuracy: 100.00, test2_accuracy: 25.37, core_penalty: 0.4185\n",
      "INFO:absl:epoch: 29, train_loss: 0.0209, train_accuracy: 100.00, test1_accuracy: 100.00, test2_accuracy: 31.13, core_penalty: 0.0051\n",
      "INFO:absl:epoch: 30, train_loss: 0.0181, train_accuracy: 100.00, test1_accuracy: 99.97, test2_accuracy: 36.54, core_penalty: 0.0779\n"
     ]
    }
   ],
   "source": [
    "config = configs.synthetic_experiment()\n",
    "config.lambda_core = 0.0\n",
    "state_pooled = train.train_and_evaluate(config, workdir=f\"models_synthetic/pooled\", train_ds=train_ds, test1_ds=test1_ds, test2_ds=test2_ds)"
   ]
  },
  {
   "cell_type": "code",
   "execution_count": 4,
   "metadata": {},
   "outputs": [
    {
     "name": "stderr",
     "output_type": "stream",
     "text": [
      "INFO:absl:epoch: 1, train_loss: 7.9006, train_accuracy: 98.47, test1_accuracy: 100.00, test2_accuracy: 1.16, core_penalty: 6.5644\n",
      "INFO:absl:epoch: 2, train_loss: 37.7679, train_accuracy: 95.70, test1_accuracy: 100.00, test2_accuracy: 17.60, core_penalty: 28.7616\n",
      "INFO:absl:epoch: 3, train_loss: 628.8871, train_accuracy: 89.73, test1_accuracy: 92.97, test2_accuracy: 49.39, core_penalty: 535.7748\n",
      "INFO:absl:epoch: 4, train_loss: 144.4146, train_accuracy: 96.09, test1_accuracy: 98.67, test2_accuracy: 0.00, core_penalty: 77.1227\n",
      "INFO:absl:epoch: 5, train_loss: 1887.8452, train_accuracy: 78.85, test1_accuracy: 63.02, test2_accuracy: 76.05, core_penalty: 1787.6924\n",
      "INFO:absl:epoch: 6, train_loss: 65.9725, train_accuracy: 96.21, test1_accuracy: 98.49, test2_accuracy: 6.94, core_penalty: 37.8222\n",
      "INFO:absl:epoch: 7, train_loss: 922.6086, train_accuracy: 91.30, test1_accuracy: 59.00, test2_accuracy: 49.45, core_penalty: 845.6210\n",
      "INFO:absl:epoch: 8, train_loss: 17838.4707, train_accuracy: 76.34, test1_accuracy: 49.66, test2_accuracy: 49.45, core_penalty: 17422.3611\n",
      "INFO:absl:epoch: 9, train_loss: 14175.2480, train_accuracy: 71.42, test1_accuracy: 97.73, test2_accuracy: 26.20, core_penalty: 12880.1194\n",
      "INFO:absl:epoch: 10, train_loss: 371.0059, train_accuracy: 98.15, test1_accuracy: 99.69, test2_accuracy: 47.72, core_penalty: 314.4424\n",
      "INFO:absl:epoch: 11, train_loss: 3040.7874, train_accuracy: 84.63, test1_accuracy: 95.25, test2_accuracy: 54.88, core_penalty: 2877.5018\n",
      "INFO:absl:epoch: 12, train_loss: 154.9432, train_accuracy: 97.04, test1_accuracy: 50.34, test2_accuracy: 50.55, core_penalty: 83.1107\n",
      "INFO:absl:epoch: 13, train_loss: 265.5235, train_accuracy: 88.06, test1_accuracy: 99.79, test2_accuracy: 50.48, core_penalty: 164.7656\n",
      "INFO:absl:epoch: 14, train_loss: 64.0713, train_accuracy: 99.88, test1_accuracy: 99.93, test2_accuracy: 56.55, core_penalty: 6.0955\n",
      "INFO:absl:epoch: 15, train_loss: 65.3938, train_accuracy: 98.78, test1_accuracy: 99.98, test2_accuracy: 44.29, core_penalty: 6.6770\n",
      "INFO:absl:epoch: 16, train_loss: 263.2565, train_accuracy: 87.50, test1_accuracy: 50.86, test2_accuracy: 64.79, core_penalty: 151.5791\n",
      "INFO:absl:epoch: 17, train_loss: 77.5677, train_accuracy: 90.25, test1_accuracy: 97.66, test2_accuracy: 69.12, core_penalty: 6.9257\n",
      "INFO:absl:epoch: 18, train_loss: 60.9704, train_accuracy: 98.59, test1_accuracy: 98.65, test2_accuracy: 68.28, core_penalty: 1.6021\n",
      "INFO:absl:epoch: 19, train_loss: 58.6477, train_accuracy: 99.39, test1_accuracy: 99.64, test2_accuracy: 67.80, core_penalty: 0.0000\n",
      "INFO:absl:epoch: 20, train_loss: 63.8136, train_accuracy: 99.73, test1_accuracy: 99.82, test2_accuracy: 69.97, core_penalty: 5.6942\n",
      "INFO:absl:epoch: 21, train_loss: 77.4510, train_accuracy: 98.30, test1_accuracy: 99.18, test2_accuracy: 69.59, core_penalty: 18.4734\n",
      "INFO:absl:epoch: 22, train_loss: 57.9518, train_accuracy: 99.74, test1_accuracy: 99.96, test2_accuracy: 56.50, core_penalty: 0.2868\n",
      "INFO:absl:epoch: 23, train_loss: 80.5720, train_accuracy: 91.63, test1_accuracy: 99.24, test2_accuracy: 81.25, core_penalty: 17.9592\n",
      "INFO:absl:epoch: 24, train_loss: 56.8686, train_accuracy: 99.82, test1_accuracy: 99.93, test2_accuracy: 81.65, core_penalty: 0.0014\n",
      "INFO:absl:epoch: 25, train_loss: 56.6557, train_accuracy: 99.58, test1_accuracy: 99.85, test2_accuracy: 87.60, core_penalty: 0.2841\n",
      "INFO:absl:epoch: 26, train_loss: 96.1118, train_accuracy: 90.08, test1_accuracy: 97.78, test2_accuracy: 39.97, core_penalty: 16.1860\n",
      "INFO:absl:epoch: 27, train_loss: 640.4781, train_accuracy: 87.34, test1_accuracy: 99.97, test2_accuracy: 49.75, core_penalty: 527.0173\n",
      "INFO:absl:epoch: 28, train_loss: 2079.7349, train_accuracy: 90.87, test1_accuracy: 89.72, test2_accuracy: 26.09, core_penalty: 1929.4339\n",
      "INFO:absl:epoch: 29, train_loss: 451.3720, train_accuracy: 87.48, test1_accuracy: 88.01, test2_accuracy: 49.83, core_penalty: 323.9181\n",
      "INFO:absl:epoch: 30, train_loss: 223.5680, train_accuracy: 95.27, test1_accuracy: 100.00, test2_accuracy: 46.57, core_penalty: 156.1087\n"
     ]
    }
   ],
   "source": [
    "config = configs.synthetic_experiment()\n",
    "state_pooled = train.train_and_evaluate(config, workdir=f\"models_synthetic/core\", train_ds=train_ds, test1_ds=test1_ds, test2_ds=test2_ds)"
   ]
  }
 ],
 "metadata": {
  "kernelspec": {
   "display_name": "sdsc_proj",
   "language": "python",
   "name": "python3"
  },
  "language_info": {
   "codemirror_mode": {
    "name": "ipython",
    "version": 3
   },
   "file_extension": ".py",
   "mimetype": "text/x-python",
   "name": "python",
   "nbconvert_exporter": "python",
   "pygments_lexer": "ipython3",
   "version": "3.10.13"
  }
 },
 "nbformat": 4,
 "nbformat_minor": 2
}
